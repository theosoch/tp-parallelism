{
 "cells": [
  {
   "cell_type": "code",
   "execution_count": 1,
   "id": "971d92c8-34f4-4253-8661-b48ab9d810fb",
   "metadata": {},
   "outputs": [],
   "source": [
    "import pandas as pd\n",
    "from matplotlib import pyplot as plt"
   ]
  },
  {
   "cell_type": "markdown",
   "id": "e5b4d6c0-4023-475e-80c7-dc58f2c6bd89",
   "metadata": {},
   "source": [
    "### Exercice n°2"
   ]
  },
  {
   "cell_type": "markdown",
   "id": "836897b3-71f2-4aa4-9180-4595000ba5c2",
   "metadata": {},
   "source": [
    "#### Implémentations"
   ]
  },
  {
   "cell_type": "markdown",
   "id": "fd708fec-8afc-481a-a329-ed8c6262b8b1",
   "metadata": {},
   "source": [
    "##### **Séquentielle**"
   ]
  },
  {
   "cell_type": "markdown",
   "id": "5031e142-7214-4a41-9762-76b00b995876",
   "metadata": {},
   "source": [
    "> Ici, on fait un simple parcours séquentiel de la matrice pour faire la somme des coefficients.\n",
    "> \n",
    "> La matrice étant représentée \"sur une ligne\", on peut se contenter d'une seule boucle puisqu'il n'y a aucune opération nécessitant de connaître les coordonnées exactes de chaque coefficient."
   ]
  },
  {
   "cell_type": "markdown",
   "id": "8d05ba72-21ec-4e6a-9f89-87fb23981fa4",
   "metadata": {},
   "source": [
    "```c\n",
    "int sequential_mat_sum(const int* M, const int Msize, int* usedThreadCountPtr) {\n",
    "    int result = 0;\n",
    "    const int Mtablength = Msize*Msize;\n",
    "    \n",
    "    // Here only to retrieve information data for results comparison\n",
    "    *usedThreadCountPtr = 1;\n",
    "\n",
    "    // \n",
    "\n",
    "    for(int i = 0; i < Mtablength; ++i)\n",
    "        result += M[i];\n",
    "\n",
    "    // \n",
    "\n",
    "    return result;\n",
    "}\n",
    "```"
   ]
  },
  {
   "cell_type": "markdown",
   "id": "31a0e0dd-da67-4ac2-83c9-6119ade57c51",
   "metadata": {},
   "source": [
    "##### **Sommes partielles**"
   ]
  },
  {
   "cell_type": "markdown",
   "id": "3f498b70-bdca-43e4-92b9-f629fd737df3",
   "metadata": {},
   "source": [
    "> On doit calculer les sommes partielles de chaque thread, puis additionner les sommes partielles une fois que tous les threads ont fini leur travail.\n",
    ">\n",
    "> Pour ça on doit créer un tableau d'entiers, correspondant aux sommes partielles de chaque thread. Ensuite, dans la section parallélisée, on récupère le numéro de thread et on initialise puis incrémente la somme partielle associée au thread en cours d'éxécution."
   ]
  },
  {
   "cell_type": "markdown",
   "id": "c4cbcfdd-c47d-4d53-ae35-e0aa1e38e383",
   "metadata": {},
   "source": [
    "```c\n",
    "int parallelized1_mat_sum(const int* M, const int Msize, int* usedThreadCountPtr) {\n",
    "    int result = 0;\n",
    "    const int Mtablength = Msize*Msize;\n",
    "\n",
    "    // \n",
    "\n",
    "    int partialsums[USED_THREAD_COUNT];\n",
    "\n",
    "    #pragma omp parallel num_threads(USED_THREAD_COUNT)\n",
    "    {\n",
    "        #pragma omp single\n",
    "        // Here only to retrieve information data for results comparison\n",
    "        *usedThreadCountPtr = omp_get_num_threads();\n",
    "\n",
    "        // \n",
    "\n",
    "        const int threadNum = omp_get_thread_num();\n",
    "\n",
    "        partialsums[threadNum] = 0;\n",
    "\n",
    "        #pragma omp for\n",
    "        for(int i = 0; i < Mtablength; ++i)\n",
    "            partialsums[threadNum] += M[i];\n",
    "\n",
    "        #pragma omp single\n",
    "        for(int i = 0; i < USED_THREAD_COUNT; ++i)\n",
    "            result += partialsums[i];\n",
    "    }\n",
    "\n",
    "    // \n",
    "\n",
    "    return result;\n",
    "}\n",
    "```"
   ]
  },
  {
   "cell_type": "markdown",
   "id": "da67a024-e3c0-4273-bcce-1d1cc2496567",
   "metadata": {},
   "source": [
    "##### **Somme globale incrémentée par chaque thread**"
   ]
  },
  {
   "cell_type": "markdown",
   "id": "2e2bd1de-deda-4de8-b254-1f9c5bcadae5",
   "metadata": {},
   "source": [
    "> On doit calculer une somme partielle par thread puis incrémenter sa valeur à la somme globale en exclusion mutuelle.\n",
    ">\n",
    "> Pour l'exclusion mutuelle, on a le choix entre une zone critique et une opération atomique, car nous n'avons qu'une incrémentation à effectuer par thread.\n",
    ">\n",
    "> Théoriquement, dans ce cas l'opération atomique est plus adaptée, et c'est pourquoi nous allons réaliser deux versions différentes utilisant les deux directives pour comparer leur temps d'éxécution."
   ]
  },
  {
   "cell_type": "markdown",
   "id": "67903d12-37e7-424f-94f7-4da57ddfb536",
   "metadata": {},
   "source": [
    "###### Zone critique"
   ]
  },
  {
   "cell_type": "markdown",
   "id": "4576a3b0-e56b-4709-8d0f-4727629a1e59",
   "metadata": {},
   "source": [
    "```c\n",
    "int parallelized2_1_mat_sum(const int* M, const int Msize, int* usedThreadCountPtr) {\n",
    "    int result = 0;\n",
    "    const int Mtablength = Msize*Msize;\n",
    "\n",
    "    // \n",
    "\n",
    "    #pragma omp parallel num_threads(USED_THREAD_COUNT)\n",
    "    {\n",
    "        #pragma omp single\n",
    "        // Here only to retrieve information data for results comparison\n",
    "        *usedThreadCountPtr = omp_get_num_threads();\n",
    "\n",
    "        // \n",
    "\n",
    "        int partialsum = 0;\n",
    "\n",
    "        #pragma omp for\n",
    "        for(int i = 0; i < Mtablength; ++i) partialsum += M[i];\n",
    "\n",
    "        // Mutex incrementation\n",
    "        #pragma omp critical\n",
    "        result += partialsum;\n",
    "    }\n",
    "\n",
    "    // \n",
    "\n",
    "    return result;\n",
    "}\n",
    "```"
   ]
  },
  {
   "cell_type": "markdown",
   "id": "3ec37a16-6421-4d10-aa14-31091d4ab677",
   "metadata": {},
   "source": [
    "###### Opération atomique:"
   ]
  },
  {
   "cell_type": "markdown",
   "id": "0c521b55-5d1d-4739-8405-682289da34e6",
   "metadata": {},
   "source": [
    "```c\n",
    "int parallelized2_2_mat_sum(const int* M, const int Msize, int* usedThreadCountPtr) {\n",
    "    int result = 0;\n",
    "    const int Mtablength = Msize*Msize;\n",
    "\n",
    "    // \n",
    "\n",
    "    #pragma omp parallel num_threads(USED_THREAD_COUNT)\n",
    "    {\n",
    "        #pragma omp single\n",
    "        // Here only to retrieve information data for results comparison\n",
    "        *usedThreadCountPtr = omp_get_num_threads();\n",
    "\n",
    "        // \n",
    "\n",
    "        int partialsum = 0;\n",
    "\n",
    "        #pragma omp for\n",
    "        for(int i = 0; i < Mtablength; ++i)\n",
    "            partialsum += M[i];\n",
    "\n",
    "        // Mutex incrementation\n",
    "        #pragma omp atomic\n",
    "        result += partialsum;\n",
    "    }\n",
    "\n",
    "    // \n",
    "\n",
    "    return result;\n",
    "}\n",
    "```"
   ]
  },
  {
   "cell_type": "markdown",
   "id": "77ed3029-8b02-45c3-8f64-dea6645a1038",
   "metadata": {},
   "source": [
    "##### **Réduction**"
   ]
  },
  {
   "cell_type": "markdown",
   "id": "13713d88-f4b9-440b-bec0-f3ece23c623e",
   "metadata": {},
   "source": [
    "> OpenMP permet d'effectuer des opérations de réduction justement pour les cas une variable globale peut être déterminée par les résultats des calculs partiels de cette variable par chaque thread.\n",
    ">\n",
    "> Voici donc une version exploitant cette fonctionnalité:"
   ]
  },
  {
   "cell_type": "markdown",
   "id": "fdc0126e-00bf-4702-8815-5e6f1eef2db3",
   "metadata": {},
   "source": [
    "```c\n",
    "int parallelized3_mat_sum(const int* M, const int Msize, int* usedThreadCountPtr) {\n",
    "    int result = 0;\n",
    "    const int Mtablength = Msize*Msize;\n",
    "\n",
    "    // \n",
    "\n",
    "    #pragma omp parallel num_threads(USED_THREAD_COUNT)\n",
    "    {\n",
    "        #pragma omp single\n",
    "        // Here only to retrieve information data for results comparison\n",
    "        *usedThreadCountPtr = omp_get_num_threads();\n",
    "\n",
    "        // \n",
    "\n",
    "        #pragma omp for reduction(+:result)\n",
    "        for(int i = 0; i < Mtablength; ++i)\n",
    "            result += M[i];\n",
    "    }\n",
    "\n",
    "    // \n",
    "\n",
    "    return result;\n",
    "}\n",
    "```"
   ]
  },
  {
   "cell_type": "markdown",
   "id": "c3f2b58a-6c68-409d-9022-3c28482c0b27",
   "metadata": {},
   "source": [
    "#### Résultats"
   ]
  },
  {
   "cell_type": "code",
   "execution_count": 2,
   "id": "cd295061-d0e8-4a12-9c83-855c5858c289",
   "metadata": {},
   "outputs": [],
   "source": [
    "results = pd.read_csv(\"./results.csv\")"
   ]
  },
  {
   "cell_type": "code",
   "execution_count": 3,
   "id": "09b935c1-1287-44a8-aa60-6ba39947f467",
   "metadata": {},
   "outputs": [
    {
     "data": {
      "text/html": [
       "<div>\n",
       "<style scoped>\n",
       "    .dataframe tbody tr th:only-of-type {\n",
       "        vertical-align: middle;\n",
       "    }\n",
       "\n",
       "    .dataframe tbody tr th {\n",
       "        vertical-align: top;\n",
       "    }\n",
       "\n",
       "    .dataframe thead th {\n",
       "        text-align: right;\n",
       "    }\n",
       "</style>\n",
       "<table border=\"1\" class=\"dataframe\">\n",
       "  <thead>\n",
       "    <tr style=\"text-align: right;\">\n",
       "      <th></th>\n",
       "      <th>case</th>\n",
       "      <th>threadcount</th>\n",
       "      <th>exectime</th>\n",
       "      <th>matsize</th>\n",
       "      <th>result</th>\n",
       "    </tr>\n",
       "  </thead>\n",
       "  <tbody>\n",
       "    <tr>\n",
       "      <th>0</th>\n",
       "      <td>sequential</td>\n",
       "      <td>1</td>\n",
       "      <td>1.514797</td>\n",
       "      <td>30000</td>\n",
       "      <td>900000000</td>\n",
       "    </tr>\n",
       "    <tr>\n",
       "      <th>1</th>\n",
       "      <td>partial sums</td>\n",
       "      <td>8</td>\n",
       "      <td>6.362032</td>\n",
       "      <td>30000</td>\n",
       "      <td>900000000</td>\n",
       "    </tr>\n",
       "    <tr>\n",
       "      <th>2</th>\n",
       "      <td>global sum incremented by each thread (critical)</td>\n",
       "      <td>8</td>\n",
       "      <td>0.280915</td>\n",
       "      <td>30000</td>\n",
       "      <td>900000000</td>\n",
       "    </tr>\n",
       "    <tr>\n",
       "      <th>3</th>\n",
       "      <td>global sum incremented by each thread (atomic)</td>\n",
       "      <td>8</td>\n",
       "      <td>0.248765</td>\n",
       "      <td>30000</td>\n",
       "      <td>900000000</td>\n",
       "    </tr>\n",
       "    <tr>\n",
       "      <th>4</th>\n",
       "      <td>reduction</td>\n",
       "      <td>8</td>\n",
       "      <td>0.245161</td>\n",
       "      <td>30000</td>\n",
       "      <td>900000000</td>\n",
       "    </tr>\n",
       "  </tbody>\n",
       "</table>\n",
       "</div>"
      ],
      "text/plain": [
       "                                               case  threadcount  exectime  \\\n",
       "0                                        sequential            1  1.514797   \n",
       "1                                      partial sums            8  6.362032   \n",
       "2  global sum incremented by each thread (critical)            8  0.280915   \n",
       "3    global sum incremented by each thread (atomic)            8  0.248765   \n",
       "4                                         reduction            8  0.245161   \n",
       "\n",
       "   matsize     result  \n",
       "0    30000  900000000  \n",
       "1    30000  900000000  \n",
       "2    30000  900000000  \n",
       "3    30000  900000000  \n",
       "4    30000  900000000  "
      ]
     },
     "execution_count": 3,
     "metadata": {},
     "output_type": "execute_result"
    }
   ],
   "source": [
    "results"
   ]
  },
  {
   "cell_type": "code",
   "execution_count": 4,
   "id": "618923f2-bc17-4161-aa56-c2f1eb2a0d6f",
   "metadata": {},
   "outputs": [
    {
     "data": {
      "image/png": "[encoded data removed]",
      "text/plain": [
       "<Figure size 640x480 with 1 Axes>"
      ]
     },
     "metadata": {},
     "output_type": "display_data"
    }
   ],
   "source": [
    "labels = results[\"case\"]\n",
    "\n",
    "x = range(len(labels))\n",
    "y = results[\"exectime\"]\n",
    "\n",
    "plt.bar(x, y, color=\"#0000ff33\")\n",
    "plt.plot(x, y, '--o')\n",
    "\n",
    "plt.xticks(x, labels=labels, rotation=90)\n",
    "\n",
    "plt.xlabel(\"Case\")\n",
    "plt.ylabel(\"Time (seconds)\")\n",
    "\n",
    "plt.show()"
   ]
  },
  {
   "cell_type": "markdown",
   "id": "43f91e34-24ab-4b05-bc5e-1a31132b3122",
   "metadata": {},
   "source": [
    "> On constate que le cas n°2 (somme des sommes partielles) est beaucoup moins performant que la version séquentielle. Cette différence s'explique par le fait que pour stocker les sommes partielles de chaque thread, notre solution utilise un tableau statique, un espace mémoire alloué sur la stack (et non pas un espace mémoire alloué sur la heap). En effet, dans ce cas chaque thread doit d'abord copier le contenu du tableau des sommes partielles dans son cache mémoire, ce qui ralenti drastiquement l'éxécution.\n",
    ">\n",
    "> On constate aussi qu'excepté ce problème de cache, les versions parallélisées grâce à OpenMP sont beaucoup rapides, mais on ne parvient pas à distinguer la différence de performance.\n",
    ">\n",
    "> Pour mieux comparer les versions parallèles, on peut ne se concentrer que sur leurs résultats :"
   ]
  },
  {
   "cell_type": "code",
   "execution_count": 5,
   "id": "adeb7831-ff80-4beb-82ea-3d4ef9270142",
   "metadata": {},
   "outputs": [
    {
     "data": {
      "image/png": "[encoded data removed]",
      "text/plain": [
       "<Figure size 640x480 with 1 Axes>"
      ]
     },
     "metadata": {},
     "output_type": "display_data"
    }
   ],
   "source": [
    "labels = results.loc[2:4][\"case\"]\n",
    "\n",
    "x = range(len(labels))\n",
    "y = results.loc[2:4][\"exectime\"]\n",
    "\n",
    "plt.bar(x, y, color=\"#0000ff33\")\n",
    "plt.plot(x, y, '--o')\n",
    "\n",
    "plt.xticks(x, labels=labels, rotation=90)\n",
    "\n",
    "plt.xlabel(\"Case\")\n",
    "plt.ylabel(\"Time (seconds)\")\n",
    "\n",
    "plt.show()"
   ]
  },
  {
   "cell_type": "markdown",
   "id": "3d79393f-d6ab-47f6-8cb3-0299ec487035",
   "metadata": {},
   "source": [
    "> On constate que parmi les deux implémentations ou chaque thread incrémente la somme globale par exclusion mutuelle, celle utilisant une opération atomique est la plus performante.\n",
    ">\n",
    "> Aussi, la différence entre l'incrémentation en exclusion mutuelle par chaque thread via une opération atomique et l'usage de la réduction sont assez proche."
   ]
  }
 ],
 "metadata": {
  "kernelspec": {
   "display_name": "Python 3 (ipykernel)",
   "language": "python",
   "name": "python3"
  },
  "language_info": {
   "codemirror_mode": {
    "name": "ipython",
    "version": 3
   },
   "file_extension": ".py",
   "mimetype": "text/x-python",
   "name": "python",
   "nbconvert_exporter": "python",
   "pygments_lexer": "ipython3",
   "version": "3.13.2"
  }
 },
 "nbformat": 4,
 "nbformat_minor": 5
}
