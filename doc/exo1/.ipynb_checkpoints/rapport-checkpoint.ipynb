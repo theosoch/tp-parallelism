{
 "cells": [
  {
   "cell_type": "code",
   "execution_count": 6,
   "id": "971d92c8-34f4-4253-8661-b48ab9d810fb",
   "metadata": {},
   "outputs": [],
   "source": [
    "import pandas as pd\n",
    "from matplotlib import pyplot as plt"
   ]
  },
  {
   "cell_type": "markdown",
   "id": "e5b4d6c0-4023-475e-80c7-dc58f2c6bd89",
   "metadata": {},
   "source": [
    "### Exercice n°1"
   ]
  },
  {
   "cell_type": "markdown",
   "id": "ddef55f6-2eaa-42ea-b895-e257d046e273",
   "metadata": {},
   "source": [
    "1. Examinez le [code source C du calcul de produit de matrices](https://moodle.univ-tlse3.fr/pluginfile.php/673629/mod_page/content/2/matmul.c?time=1680076682602)"
   ]
  },
  {
   "cell_type": "markdown",
   "id": "d9b07505-cf15-447b-9b0c-6d29fab79391",
   "metadata": {},
   "source": [
    "a. Quels sont les éléments spécifiques à OpenMP ?"
   ]
  },
  {
   "cell_type": "markdown",
   "id": "455851ad-4861-44c0-8ef2-de0b52d72da8",
   "metadata": {},
   "source": [
    "> Les éléments spécifiques à OpenMP sont:\n",
    "> - l'inclusion de la bibliothèque OpenMP (`#include <omp.h>`)\n",
    "> - les deux appels à la fonction `omp_get_wtime` permettant de récupérer le temps (en secondes) écoulé depuis l'exécution du programme.\n",
    "> - l'utilisation de la directive `#pragma omp parallel for num_threads(nb) private(j,k)` qui marque le début de la partie parallélisée du code, indique à OpenMP d'éxécuter en parallèle la boucle for qui suit, précise le nombre de threads maximum à utiliser sur toute la partie du code parallélisé et définit comme privées à chaque thread les variables `j` et `k` des deux boucles for suivantes."
   ]
  },
  {
   "cell_type": "markdown",
   "id": "1c0003a6-ac49-487c-9ba4-fe99eb8069fd",
   "metadata": {},
   "source": [
    "b. Comment les performances du programme sont-elles mesurées ?"
   ]
  },
  {
   "cell_type": "markdown",
   "id": "333e6b1a-8b75-4da7-b414-c3935492af07",
   "metadata": {},
   "source": [
    "> La mesure de performance du programme ici est le temps d'éxécution (en secondes). Le programme est éxécuté plusieurs fois avec un nombre différent de threads à chaque fois en partant de 1 thread (donc purement séquentiel). On peut ainsi comparer les temps d'éxécution par nombre de threads.\n",
    "> \n",
    "> Ici, comme le montre le graphe ci-dessous, on constate que plus on utilise de threads, plus le programme est efficace (son temps d'éxécution est réduit), mais plus il est difficile d'être plus efficace:"
   ]
  },
  {
   "cell_type": "code",
   "execution_count": 7,
   "id": "cd295061-d0e8-4a12-9c83-855c5858c289",
   "metadata": {},
   "outputs": [],
   "source": [
    "exo1_benchmark_data = pd.read_csv(\"./data.csv\")"
   ]
  },
  {
   "cell_type": "code",
   "execution_count": 8,
   "id": "09b935c1-1287-44a8-aa60-6ba39947f467",
   "metadata": {},
   "outputs": [
    {
     "data": {
      "text/html": [
       "<div>\n",
       "<style scoped>\n",
       "    .dataframe tbody tr th:only-of-type {\n",
       "        vertical-align: middle;\n",
       "    }\n",
       "\n",
       "    .dataframe tbody tr th {\n",
       "        vertical-align: top;\n",
       "    }\n",
       "\n",
       "    .dataframe thead th {\n",
       "        text-align: right;\n",
       "    }\n",
       "</style>\n",
       "<table border=\"1\" class=\"dataframe\">\n",
       "  <thead>\n",
       "    <tr style=\"text-align: right;\">\n",
       "      <th></th>\n",
       "      <th>Nb.threads</th>\n",
       "      <th>Tps.</th>\n",
       "    </tr>\n",
       "  </thead>\n",
       "  <tbody>\n",
       "    <tr>\n",
       "      <th>0</th>\n",
       "      <td>1</td>\n",
       "      <td>11.499675</td>\n",
       "    </tr>\n",
       "    <tr>\n",
       "      <th>1</th>\n",
       "      <td>2</td>\n",
       "      <td>6.201087</td>\n",
       "    </tr>\n",
       "    <tr>\n",
       "      <th>2</th>\n",
       "      <td>3</td>\n",
       "      <td>3.787661</td>\n",
       "    </tr>\n",
       "    <tr>\n",
       "      <th>3</th>\n",
       "      <td>4</td>\n",
       "      <td>2.644561</td>\n",
       "    </tr>\n",
       "    <tr>\n",
       "      <th>4</th>\n",
       "      <td>5</td>\n",
       "      <td>1.879754</td>\n",
       "    </tr>\n",
       "    <tr>\n",
       "      <th>5</th>\n",
       "      <td>6</td>\n",
       "      <td>2.493248</td>\n",
       "    </tr>\n",
       "    <tr>\n",
       "      <th>6</th>\n",
       "      <td>7</td>\n",
       "      <td>2.165533</td>\n",
       "    </tr>\n",
       "    <tr>\n",
       "      <th>7</th>\n",
       "      <td>8</td>\n",
       "      <td>2.092911</td>\n",
       "    </tr>\n",
       "  </tbody>\n",
       "</table>\n",
       "</div>"
      ],
      "text/plain": [
       "   Nb.threads       Tps.\n",
       "0           1  11.499675\n",
       "1           2   6.201087\n",
       "2           3   3.787661\n",
       "3           4   2.644561\n",
       "4           5   1.879754\n",
       "5           6   2.493248\n",
       "6           7   2.165533\n",
       "7           8   2.092911"
      ]
     },
     "execution_count": 8,
     "metadata": {},
     "output_type": "execute_result"
    }
   ],
   "source": [
    "exo1_benchmark_data"
   ]
  },
  {
   "cell_type": "code",
   "execution_count": 9,
   "id": "618923f2-bc17-4161-aa56-c2f1eb2a0d6f",
   "metadata": {},
   "outputs": [
    {
     "data": {
      "image/png": "[encoded data removed]",
      "text/plain": [
       "<Figure size 640x480 with 1 Axes>"
      ]
     },
     "metadata": {},
     "output_type": "display_data"
    }
   ],
   "source": [
    "plt.plot(exo1_benchmark_data[\"Nb.threads\"], exo1_benchmark_data[\"Tps.\"], '--o')\n",
    "\n",
    "plt.xlabel(\"Nombre de threads\")\n",
    "plt.ylabel(\"Temps (secondes)\")\n",
    "\n",
    "plt.show()"
   ]
  },
  {
   "cell_type": "code",
   "execution_count": null,
   "id": "c4925e2e-70eb-4be4-8866-a0fe2d1e90d4",
   "metadata": {},
   "outputs": [],
   "source": []
  }
 ],
 "metadata": {
  "kernelspec": {
   "display_name": "Python 3 (ipykernel)",
   "language": "python",
   "name": "python3"
  },
  "language_info": {
   "codemirror_mode": {
    "name": "ipython",
    "version": 3
   },
   "file_extension": ".py",
   "mimetype": "text/x-python",
   "name": "python",
   "nbconvert_exporter": "python",
   "pygments_lexer": "ipython3",
   "version": "3.13.2"
  }
 },
 "nbformat": 4,
 "nbformat_minor": 5
}
