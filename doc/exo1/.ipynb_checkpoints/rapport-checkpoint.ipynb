{
 "cells": [
  {
   "cell_type": "code",
   "execution_count": 1,
   "id": "971d92c8-34f4-4253-8661-b48ab9d810fb",
   "metadata": {},
   "outputs": [],
   "source": [
    "import pandas as pd\n",
    "from matplotlib import pyplot as plt"
   ]
  },
  {
   "cell_type": "markdown",
   "id": "e5b4d6c0-4023-475e-80c7-dc58f2c6bd89",
   "metadata": {},
   "source": [
    "### Exercice n°1"
   ]
  },
  {
   "cell_type": "markdown",
   "id": "ddef55f6-2eaa-42ea-b895-e257d046e273",
   "metadata": {},
   "source": [
    "1. Examinez le [code source C du calcul de produit de matrices](https://moodle.univ-tlse3.fr/pluginfile.php/673629/mod_page/content/2/matmul.c?time=1680076682602)"
   ]
  },
  {
   "cell_type": "markdown",
   "id": "d9b07505-cf15-447b-9b0c-6d29fab79391",
   "metadata": {},
   "source": [
    "a. Quels sont les éléments spécifiques à OpenMP ?"
   ]
  },
  {
   "cell_type": "markdown",
   "id": "455851ad-4861-44c0-8ef2-de0b52d72da8",
   "metadata": {},
   "source": [
    "> Les éléments spécifiques à OpenMP sont:\n",
    "> - l'inclusion de la bibliothèque OpenMP (`#include <omp.h>`)\n",
    "> - les deux appels à la fonction `omp_get_wtime` permettant de récupérer le temps (en secondes) écoulé depuis l'exécution du programme.\n",
    "> - l'utilisation de la directive `#pragma omp parallel for num_threads(nb) private(j,k)` qui marque le début de la partie parallélisée du code, indique à OpenMP d'éxécuter en parallèle la boucle for qui suit, précise le nombre de threads maximum à utiliser sur toute la partie du code parallélisé et définit comme privées à chaque thread les variables `j` et `k` des deux boucles for suivantes."
   ]
  },
  {
   "cell_type": "markdown",
   "id": "1c0003a6-ac49-487c-9ba4-fe99eb8069fd",
   "metadata": {},
   "source": [
    "b. Comment les performances du programme sont-elles mesurées ?"
   ]
  },
  {
   "cell_type": "markdown",
   "id": "333e6b1a-8b75-4da7-b414-c3935492af07",
   "metadata": {},
   "source": [
    "> La mesure de performance du programme ici est le temps d'éxécution (en secondes). Le programme est éxécuté plusieurs fois avec un nombre différent de threads à chaque fois en partant de 1 thread (donc purement séquentiel). On peut ainsi comparer les temps d'éxécution par nombre de threads.\n",
    "> \n",
    "> Ici, comme le montre le graphe ci-dessous, on constate que plus on utilise de threads, plus le programme est efficace (son temps d'éxécution est réduit), mais plus il est difficile d'être plus efficace:"
   ]
  },
  {
   "cell_type": "code",
   "execution_count": 2,
   "id": "cd295061-d0e8-4a12-9c83-855c5858c289",
   "metadata": {},
   "outputs": [],
   "source": [
    "results = pd.read_csv(\"./results.csv\")"
   ]
  },
  {
   "cell_type": "code",
   "execution_count": 3,
   "id": "09b935c1-1287-44a8-aa60-6ba39947f467",
   "metadata": {},
   "outputs": [
    {
     "data": {
      "text/html": [
       "<div>\n",
       "<style scoped>\n",
       "    .dataframe tbody tr th:only-of-type {\n",
       "        vertical-align: middle;\n",
       "    }\n",
       "\n",
       "    .dataframe tbody tr th {\n",
       "        vertical-align: top;\n",
       "    }\n",
       "\n",
       "    .dataframe thead th {\n",
       "        text-align: right;\n",
       "    }\n",
       "</style>\n",
       "<table border=\"1\" class=\"dataframe\">\n",
       "  <thead>\n",
       "    <tr style=\"text-align: right;\">\n",
       "      <th></th>\n",
       "      <th>Nb.threads</th>\n",
       "      <th>Tps.</th>\n",
       "    </tr>\n",
       "  </thead>\n",
       "  <tbody>\n",
       "    <tr>\n",
       "      <th>0</th>\n",
       "      <td>1</td>\n",
       "      <td>23.564394</td>\n",
       "    </tr>\n",
       "    <tr>\n",
       "      <th>1</th>\n",
       "      <td>2</td>\n",
       "      <td>12.240823</td>\n",
       "    </tr>\n",
       "    <tr>\n",
       "      <th>2</th>\n",
       "      <td>3</td>\n",
       "      <td>8.678006</td>\n",
       "    </tr>\n",
       "    <tr>\n",
       "      <th>3</th>\n",
       "      <td>4</td>\n",
       "      <td>6.811628</td>\n",
       "    </tr>\n",
       "    <tr>\n",
       "      <th>4</th>\n",
       "      <td>5</td>\n",
       "      <td>6.436157</td>\n",
       "    </tr>\n",
       "    <tr>\n",
       "      <th>5</th>\n",
       "      <td>6</td>\n",
       "      <td>5.581240</td>\n",
       "    </tr>\n",
       "    <tr>\n",
       "      <th>6</th>\n",
       "      <td>7</td>\n",
       "      <td>4.738040</td>\n",
       "    </tr>\n",
       "    <tr>\n",
       "      <th>7</th>\n",
       "      <td>8</td>\n",
       "      <td>4.329236</td>\n",
       "    </tr>\n",
       "  </tbody>\n",
       "</table>\n",
       "</div>"
      ],
      "text/plain": [
       "   Nb.threads       Tps.\n",
       "0           1  23.564394\n",
       "1           2  12.240823\n",
       "2           3   8.678006\n",
       "3           4   6.811628\n",
       "4           5   6.436157\n",
       "5           6   5.581240\n",
       "6           7   4.738040\n",
       "7           8   4.329236"
      ]
     },
     "execution_count": 3,
     "metadata": {},
     "output_type": "execute_result"
    }
   ],
   "source": [
    "results"
   ]
  },
  {
   "cell_type": "code",
   "execution_count": 4,
   "id": "618923f2-bc17-4161-aa56-c2f1eb2a0d6f",
   "metadata": {},
   "outputs": [
    {
     "data": {
      "image/png": "[encoded data removed]",
      "text/plain": [
       "<Figure size 640x480 with 1 Axes>"
      ]
     },
     "metadata": {},
     "output_type": "display_data"
    }
   ],
   "source": [
    "x = results[\"Nb.threads\"]\n",
    "y = results[\"Tps.\"]\n",
    "\n",
    "plt.bar(x, y, color=\"#0000ff33\")\n",
    "plt.plot(x, y, '--o')\n",
    "\n",
    "plt.xlabel(\"Nombre de threads\")\n",
    "plt.ylabel(\"Temps (secondes)\")\n",
    "\n",
    "plt.show()"
   ]
  }
 ],
 "metadata": {
  "kernelspec": {
   "display_name": "Python 3 (ipykernel)",
   "language": "python",
   "name": "python3"
  },
  "language_info": {
   "codemirror_mode": {
    "name": "ipython",
    "version": 3
   },
   "file_extension": ".py",
   "mimetype": "text/x-python",
   "name": "python",
   "nbconvert_exporter": "python",
   "pygments_lexer": "ipython3",
   "version": "3.13.2"
  }
 },
 "nbformat": 4,
 "nbformat_minor": 5
}
